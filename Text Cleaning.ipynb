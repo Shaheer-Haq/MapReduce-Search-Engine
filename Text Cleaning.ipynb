{
 "cells": [
  {
   "cell_type": "code",
   "execution_count": 1,
   "id": "2950b49c-0f8d-4974-988d-09f738a3fb2d",
   "metadata": {},
   "outputs": [],
   "source": [
    "import pandas as pd\n",
    "import string\n",
    "import math\n",
    "from nltk.corpus import stopwords\n",
    "from nltk.tokenize import word_tokenize\n"
   ]
  },
  {
   "cell_type": "code",
   "execution_count": 2,
   "id": "d230986f-e996-4612-bf42-743581d2e4a3",
   "metadata": {},
   "outputs": [],
   "source": [
    "def preprocess(text):\n",
    "\n",
    "    if isinstance(text, float) and math.isnan(text):\n",
    "        return ''\n",
    "        \n",
    "    text = text.translate(str.maketrans('','', string.punctuation))\n",
    "    text = text.lower()\n",
    "    tokens = word_tokenize(text)\n",
    "    stop_words = set(stopwords.words('english'))\n",
    "    tokens = [word for word in tokens if word not in stop_words]\n",
    "    preprocessed_text = ' '.join(tokens)\n",
    "    \n",
    "    return preprocessed_text"
   ]
  },
  {
   "cell_type": "code",
   "execution_count": 3,
   "id": "97a98e8f-6785-4bb0-a826-7d4a55a1fed4",
   "metadata": {},
   "outputs": [
    {
     "name": "stderr",
     "output_type": "stream",
     "text": [
      "[nltk_data] Downloading package punkt to /home/shaheer/nltk_data...\n",
      "[nltk_data]   Package punkt is already up-to-date!\n",
      "[nltk_data] Downloading package stopwords to\n",
      "[nltk_data]     /home/shaheer/nltk_data...\n",
      "[nltk_data]   Package stopwords is already up-to-date!\n"
     ]
    },
    {
     "data": {
      "text/plain": [
       "True"
      ]
     },
     "execution_count": 3,
     "metadata": {},
     "output_type": "execute_result"
    }
   ],
   "source": [
    "import nltk\n",
    "nltk.download('punkt')\n",
    "nltk.download('stopwords')"
   ]
  },
  {
   "cell_type": "code",
   "execution_count": 4,
   "id": "3b5f6047-fd49-4fad-bc42-265bad352554",
   "metadata": {
    "scrolled": true
   },
   "outputs": [],
   "source": [
    "df = pd.read_csv('enwiki-20170820.csv')\n",
    "\n",
    "subset = df.sample(n=100, random_state = 42)\n",
    "subset.to_csv('shortened_file.csv', index = False)"
   ]
  },
  {
   "cell_type": "code",
   "execution_count": 5,
   "id": "d02f215d-5927-45c0-998e-734ce7528fa8",
   "metadata": {},
   "outputs": [
    {
     "name": "stdout",
     "output_type": "stream",
     "text": [
      "Cleaing and preprocessing completed, The cleaned text is written in another column named Cleaned_text\n"
     ]
    }
   ],
   "source": [
    "df2 = pd.read_csv('input.csv')\n",
    "df2['cleaned_text'] = df2['SECTION_TEXT'].apply(preprocess)\n",
    "\n",
    "df2.to_csv('Cleaned_Dataset.csv', index = False)\n",
    "print(\"Cleaing and preprocessing completed, The cleaned text is written in another column named Cleaned_text\")"
   ]
  },
  {
   "cell_type": "code",
   "execution_count": 7,
   "id": "f290b894-4940-40fa-bb77-8360ff53aca6",
   "metadata": {},
   "outputs": [],
   "source": [
    "columns_to_keep = ['ARTICLE_ID', 'cleaned_text']\n",
    "df2 = df2[columns_to_keep]"
   ]
  },
  {
   "cell_type": "code",
   "execution_count": 8,
   "id": "af7e5d94-bf64-42e6-b3a1-cdc4d561f026",
   "metadata": {},
   "outputs": [],
   "source": [
    "df2.to_csv('Cleaned_Dataset2.csv', index=False)"
   ]
  },
  {
   "cell_type": "code",
   "execution_count": null,
   "id": "85cd1118-8ee4-4d53-b275-0516e0ae2b0b",
   "metadata": {},
   "outputs": [],
   "source": []
  }
 ],
 "metadata": {
  "kernelspec": {
   "display_name": "Python 3 (ipykernel)",
   "language": "python",
   "name": "python3"
  },
  "language_info": {
   "codemirror_mode": {
    "name": "ipython",
    "version": 3
   },
   "file_extension": ".py",
   "mimetype": "text/x-python",
   "name": "python",
   "nbconvert_exporter": "python",
   "pygments_lexer": "ipython3",
   "version": "3.11.7"
  }
 },
 "nbformat": 4,
 "nbformat_minor": 5
}
